{
 "cells": [
  {
   "cell_type": "markdown",
   "metadata": {},
   "source": [
    "# 時系列のモデリング"
   ]
  },
  {
   "cell_type": "markdown",
   "metadata": {},
   "source": [
    "## 線形動的システム（周波数領域）を用いた時系列のモデリング"
   ]
  },
  {
   "cell_type": "markdown",
   "metadata": {},
   "source": [
    "![alt text](picture/fig1.png)"
   ]
  },
  {
   "cell_type": "markdown",
   "metadata": {},
   "source": [
    "ある時系列は平均値0,分散1の世紀性白色雑音v(k)がなんらかの線形離散時間動的システム<br>\n",
    "を通って得られたものであるとしてモデリングできる\n"
   ]
  },
  {
   "cell_type": "markdown",
   "metadata": {},
   "source": [
    "$y(k) = H(z)v(k)$"
   ]
  },
  {
   "cell_type": "markdown",
   "metadata": {},
   "source": [
    "z:時間推移演算子<br>\n",
    "たとえば$zy(k) = y(k+1)$となるような演算子<br>\n",
    "<br>\n",
    "周波数領域で考えると、白色雑音のパワースペクトル密度関数は周波数に対して一定であるから、<br>\n",
    "ある周波数特性を持つシステム$H$を通ると、時系列$y(k)$のパワースペクトル密度は、システムの周波数特性と同じ情報を持つ<br>\n",
    "つまり時系列の動特性を解析することは、システムを解析することに等しい\n",
    "\n"
   ]
  },
  {
   "cell_type": "markdown",
   "metadata": {},
   "source": [
    "### ARMAモデル（要点のみ）"
   ]
  },
  {
   "cell_type": "markdown",
   "metadata": {},
   "source": [
    "２つの1次多項式を定義したとき、<br><br>\n",
    "$A(e^{j\\omega})=1+ae^{j\\omega}$<br>\n",
    "$B(e^{j\\omega})=1+be^{j\\omega}$<br>\n",
    "<br>\n",
    "$z=e^{j\\omega}$とすると、<br>\n",
    "<br>\n",
    "$y(k) = \\frac{B(z^{-1} )}{A(z^{-1} )}v(k)$<br>\n",
    "<br>\n",
    "このようなモデルをARMAモデル(自己回帰・移動平均モデル)という<br>\n",
    "<br>\n",
    "さらに式変形すると、<br>\n",
    "$y(k) + ay(k-1) = v(k) + bv(k-1)$<br>\n",
    "の確率差分方程式が得られる<br>"
   ]
  },
  {
   "cell_type": "markdown",
   "metadata": {},
   "source": [
    "#### 微分方程式と差分方程式"
   ]
  },
  {
   "cell_type": "markdown",
   "metadata": {},
   "source": [
    "連続時間の場合には微分方程式<br>\n",
    "離散時間の時系列の場合には差分方程式で記述される"
   ]
  },
  {
   "cell_type": "markdown",
   "metadata": {},
   "source": [
    "#### ARMAモデルの抽象化"
   ]
  },
  {
   "cell_type": "markdown",
   "metadata": {},
   "source": [
    "確率過程のパワースペクトル密度関数が有理系（分数で与えられる形）で与えられれば、<br>\n",
    "因数分解(ここではスペクトル分解)によって<br>\n",
    "その確率過程を記述する差分方程式を導出している"
   ]
  },
  {
   "cell_type": "markdown",
   "metadata": {},
   "source": [
    "#### 表現定理"
   ]
  },
  {
   "cell_type": "markdown",
   "metadata": {},
   "source": [
    "有理系スペクトル密度関数$\\phi(\\omega)$が与えられたとき、<br>\n",
    "入力が白色雑音で線形・漸近安定・最小位相・動的システムの出力が<br>スペクトル密度関数$\\phi(\\omega)$\n",
    "となるような定常過程を与えるシステムが存在する<br>\n",
    "いいかえると、すべての定常確率過程は白色雑音を安定・最小位相フィルタを通すことによって生成される<br><br>\n",
    "この定理は時系列{$y(k)$}を有限個のパラメータで表現される線形システムというパラメトリックモデルで<br>\n",
    "等価表現できることを示しており、時系列モデリングに基づく状態推定（フィルタリング）の基礎となる"
   ]
  },
  {
   "cell_type": "markdown",
   "metadata": {},
   "source": [
    "### ARモデル(要点のみ)"
   ]
  },
  {
   "cell_type": "markdown",
   "metadata": {},
   "source": [
    "システムHが分母だけのときARモデル(自己回帰モデル)という<br><br>\n",
    "$y(k) = \\frac{1}{A(z^{-1} )}v(k)$<br>\n",
    "<br>\n",
    "ARモデルは白色雑音過程が分母だけからなるフィルタを通って時系列が生成される<br>\n",
    "分母は<u>極</u>に対応するため、極の情報の支配的な時系列（音声信号、地震波のような振動（共振）特性を有する時系列）<br>\n",
    "のモデリングに適している"
   ]
  },
  {
   "cell_type": "markdown",
   "metadata": {},
   "source": [
    "#### 自己回帰モデル"
   ]
  },
  {
   "cell_type": "markdown",
   "metadata": {},
   "source": [
    "ARモデルを記述する差分方程式は<br><br>\n",
    "$(1+a_1z^{-1})y(k) = v(k)$  <br>\n",
    "→     $y(k) = -a_1y(k-1)+v(k) $<br><br>\n",
    "現時刻kでの時系列の値y(k)は1時刻前の自分自身の値を用いて計算されている<br>\n",
    "このことから自己回帰モデルと名付けられている<br><br>\n",
    "測定された時系列データから{$y(1),y(2),...,y(k)$}からARモデルの係数{$a_1,a_2,...$}を<br>\n",
    "推定する問題は時系列モデリングの中心テーマである<br>\n",
    "これを<u>ARモデルへのフィッティング</u>という"
   ]
  },
  {
   "cell_type": "markdown",
   "metadata": {},
   "source": [
    "### MAモデル（移動平均モデル）"
   ]
  },
  {
   "cell_type": "markdown",
   "metadata": {},
   "source": [
    "システムHが分子だけのときMAモデル(移動平均モデル)という<br><br>\n",
    "$y(k) = B(z^{-1} )v(k)$<br>\n",
    "<br>\n",
    "MAモデルは白色雑音過程が零点だけから構成される<u>FIRモデル(有限インパルス応答モデル)</u><br>\n",
    "を通って時系列が生成される構造をしている<br>\n",
    "MAモデルは有限個のインパルス応答から構成されるため、<br>\n",
    "上記式の入出力関係は安定となり、時系列$y(k)$が発散することはない"
   ]
  },
  {
   "cell_type": "markdown",
   "metadata": {},
   "source": [
    "#### 移動平均モデル"
   ]
  },
  {
   "cell_type": "markdown",
   "metadata": {},
   "source": [
    "多項式$B(z^{-1}) = 0.5 + 0.5z^{-1}$<br>\n",
    "とおいたMAモデルを考える<br><br>\n",
    "この差分方程式は<br><br>\n",
    "$y(k) = \\frac{v(k) + v(k-1)}{2}$<br><br>\n",
    "これは長さ2の移動平均フィルタを記述している<br>\n",
    "このように移動平均の操作と関係しているため移動平均モデルと名付けられた"
   ]
  },
  {
   "cell_type": "markdown",
   "metadata": {},
   "source": [
    "#### 移動平均"
   ]
  },
  {
   "cell_type": "markdown",
   "metadata": {},
   "source": [
    "時系列データから、ある一定区間単位の平均値を、時系列をずらしながら取得するもの<br>\n",
    "平滑化の技法"
   ]
  },
  {
   "cell_type": "markdown",
   "metadata": {},
   "source": [
    "### ARIMAモデル(自己回帰・積分・移動平均モデル)"
   ]
  },
  {
   "cell_type": "markdown",
   "metadata": {},
   "source": [
    "非定常時系列を記述するモデル<br><br>\n",
    "$A(z^{-1})\\nabla^dy(k) = B(z^{-1})v(k)$<br><br>\n",
    "ただし$\\nabla^d$は以下に定義される差分演算子<br>\n",
    "$\\nabla^d = (1-z^{-1})^d, d=0,1,2 $"
   ]
  },
  {
   "cell_type": "markdown",
   "metadata": {},
   "source": [
    "![alt text](picture/fig2.png \"Title\")"
   ]
  },
  {
   "cell_type": "markdown",
   "metadata": {},
   "source": [
    "確率差分方程式は計算すると以下のようになる<br><br>\n",
    "$\\nabla y(k) = -a_1\\nabla y(k-1) + b_0v(k) + b_1v(k-1) $ <br><br>\n",
    "ちなみにd=0のときARIMAはARMAモデルに一致する<br>\n",
    "<br>\n",
    "このように、ARIMAモデルは時系列モデルにd個の積分器を含むため、<br>\n",
    "非定常時系列を記述することができる<br>\n"
   ]
  },
  {
   "cell_type": "markdown",
   "metadata": {},
   "source": [
    "## 時系列の状態空間モデル"
   ]
  },
  {
   "cell_type": "markdown",
   "metadata": {},
   "source": [
    "### 状態空間モデル"
   ]
  },
  {
   "cell_type": "markdown",
   "metadata": {},
   "source": [
    "ARMAモデルを説明したものの、実際には時系列データy(k)の観測値には雑音が混入している<br>\n",
    "伝達関数により記述されたARMAモデルなどの時系列モデルを状態空間表現に転換し、観測雑音を考慮したモデルを考える<Br>\n",
    "次の二点をまとめて時系列の状態空間表現である"
   ]
  },
  {
   "cell_type": "markdown",
   "metadata": {},
   "source": [
    "#### 離散時間状態方程式"
   ]
  },
  {
   "cell_type": "markdown",
   "metadata": {},
   "source": [
    "$x(k+1) = Ax(k) + bv(k)$<br><br>\n",
    "$x(k)$は時刻kにおける状態でありn次元ベクトル<br>\n",
    "状態とは時系列のふるまいを唯一に決定するために必要な最小のデータ<br>\n",
    "あるいは時系列の未来のふるまいを予測するために必要な、時系列の過去のふるまいに関する最小のデータ<br>\n",
    "<br>\n",
    "$A$ : システム行列,大きさ(n×n),固有値は単位円ないにすべて存在<br>\n",
    "$b$ : n次元ベクトル<br>\n",
    "$v(k)$ : システム雑音,正規性白色雑音<br>\n",
    "\n"
   ]
  },
  {
   "cell_type": "markdown",
   "metadata": {},
   "source": [
    "#### 観測方程式"
   ]
  },
  {
   "cell_type": "markdown",
   "metadata": {},
   "source": [
    "$y(k) = c^Tx(k) + dv(k) + w(k)$<br>\n",
    "<br>\n",
    "$c$ : 観測係数ベクトル,n次元,物理量から観測量への変換係数ベクトル,たとえば熱電対から温度を測るとき温度と電圧の変換に用いる<br>\n",
    "$w(k)$ : 観測雑音,システム雑音と無相関な正規性白色雑音が仮定される<br>\n",
    "$dv(k)$ : 直達項,時間送れなく直接d倍されてy(k)に影響する項\n",
    "<br><br>\n",
    "ちなみに正規性の雑音であるということは、振幅の分布が正規分布に従うことを示す"
   ]
  },
  {
   "cell_type": "markdown",
   "metadata": {},
   "source": [
    "### 状態空間モデルからARMAモデルへの変換"
   ]
  },
  {
   "cell_type": "markdown",
   "metadata": {},
   "source": [
    "$H(z) = c^T(zI - A)^{-1}b + d$<br><br>\n",
    "$y(z) = H(z)v(z) + w(z)$<br><bR>\n",
    "というわけで、状態空間表現は伝達関数表現に観測雑音を考慮したものに等しい"
   ]
  },
  {
   "cell_type": "markdown",
   "metadata": {},
   "source": [
    "### 状態空間モデルの実現"
   ]
  },
  {
   "cell_type": "markdown",
   "metadata": {},
   "source": [
    "#### 可観測正準系(省略)"
   ]
  },
  {
   "cell_type": "markdown",
   "metadata": {},
   "source": [
    "#### 可制御正準系(省略)"
   ]
  },
  {
   "cell_type": "markdown",
   "metadata": {},
   "source": [
    " ## 測定データ（時間領域）に基づく時系列モデリング"
   ]
  },
  {
   "cell_type": "markdown",
   "metadata": {},
   "source": [
    "時系列のパワースペクトル密度関数をスペクトル分解することによりARMAモデルを構築したが、<br>\n",
    "実データに適用した場合、定常性を満たすようなデータを十分多く利用できるか、スペクトル分解が行えるか、など<br>\n",
    "困難な課題が多いため、時間領域における時系列モデリング法が必要になる<br><br>\n",
    "\n",
    "![alt text](picture/fig3.png \"fig3\")\n",
    "\n",
    "<br><br>\n",
    "おそらくだけど、周波数領域における話は伝達関数になおしてスペクトル分解を行うことにより、<br>\n",
    "確率差分方程式の係数（パラメタ）を決定していた。だけど実データではいつでもそれができるとが限らないので、<br>\n",
    "ARMAモデルやARモデルなどについて、最小二乗推定法などを用いて直接パラメタを求められるよって話だと思う<br>"
   ]
  },
  {
   "cell_type": "markdown",
   "metadata": {},
   "source": [
    "### ARモデルを用いた同定"
   ]
  },
  {
   "cell_type": "markdown",
   "metadata": {},
   "source": [
    "時系列データ{$y(k)$}が測定されたとき、そのデータに基づいてARモデルのパラメータ{$a_i$}を推定する問題、<br>\n",
    "すなわりARモデルを用いた時系列モデリングについて考える"
   ]
  },
  {
   "cell_type": "markdown",
   "metadata": {},
   "source": [
    "$y(k) = -a_1y(k-1)-a_2y(k-2)-...-a_ny(k-n)+v(k), k=1,2,...,N $<br><br>\n",
    "で記述されるn次ARモデルのパラメータ推定問題について説明する<br><br>\n",
    "$y(k) = \\theta^T\\phi(k) + v(k)$<br>\n",
    "<br>\n",
    "$\\theta = [a_1,a_2,...a_n]^T$ :     推定すべき未知パラメータベクトル<br>\n",
    "$\\phi(k) = [-y(k-1)-y(k-2)-...-y(k-n)]^T$ : 回帰ベクトル<br><br>\n",
    "<u>ARモデルでは未知パラメータに関して線形な系(1次系)で時系列y(k)を記述できる</u>"
   ]
  },
  {
   "cell_type": "markdown",
   "metadata": {},
   "source": [
    "#### 最小二乗推定法"
   ]
  },
  {
   "cell_type": "markdown",
   "metadata": {},
   "source": [
    "$J_N = \\frac{1}{N}\\sum^N_{k=1}(y(k)-\\hat{\\theta}^T\\phi(k))^2$<br><br>\n",
    "\n",
    "パラメータ推定のための評価関数としては最小二乗推定法を用いる<br>\n",
    "これを最小にする$\\hat{\\theta}$を求める<br><br>\n",
    "\n",
    "なんやかんや計算すると以下のように求まる<br><br>\n",
    "$\\hat{\\theta} = \\begin{pmatrix}\\hat{a_1}  \\\\\\hat{a_2}  \\end{pmatrix} =-\\begin{pmatrix}\\phi_y(0) & \\phi_y(1)  \\\\\\phi_y(1) & \\phi_y(0) \\end{pmatrix}^{-1} \\begin{pmatrix}\\phi_y(1)  \\\\ \\phi_y(2)  \\end{pmatrix}$\n",
    "<br><br>\n",
    "以上のように、時系列データが観測されたら、自己相関関数$\\phi_y(\\tau)$を計算し、その値を用いて伝達関数モデルである<br>\n",
    "ARモデルの係数を推定することができる<br><br>\n",
    "\n",
    "$G = \\begin{pmatrix}\\phi_y(0) & \\phi_y(1)  \\\\\\phi_y(1) & \\phi_y(0) \\end{pmatrix}$<br><br>\n",
    "は規則的な並び方をしていて、\n",
    "テプリッツ行列と呼ばれる<br>"
   ]
  },
  {
   "cell_type": "markdown",
   "metadata": {},
   "source": [
    "### ARMAモデルを用いた同定(式省略)"
   ]
  },
  {
   "cell_type": "markdown",
   "metadata": {},
   "source": [
    "ARモデルの場合は未知パラメータに対して線形であったため、推定値を線形方程式を解くことにより求めた<br>\n",
    "ARMAは未知パラメータに対して非線形な関係となるため、<br>\n",
    "パラメータ推定問題は非線形最適化問題になる<br><br>\n",
    "ARMAの場合、回帰ベクトルに過去の白色雑音の値v(k-1),v(k-2)が含まれている<br>\n",
    "これらは測定可能な量ではないため、ARモデルに比べて複雑になる"
   ]
  },
  {
   "cell_type": "markdown",
   "metadata": {},
   "source": [
    "### 状態空間モデルを用いた同定"
   ]
  },
  {
   "cell_type": "markdown",
   "metadata": {},
   "source": [
    "時系列の状態空間モデル<br><br>\n",
    "$x(k+1) = Ax(k) + bv(k)$<br>\n",
    "$y(k) = c^Tx(k) + dv(k) + w(k)$<br><br>\n",
    "のパラメータ行列・ベクトル$(A,b,c)$を推定する問題、すなわち状態空間モデルを用いた同定問題を考える<br>\n",
    "最も有力な同定法は<u>部分空間同定法</u>である<br>\n",
    "手順をまとめるとこんな感じ<br>\n",
    "1. 時系列データ{y(k)}から自己共分散関数（その時系列の平均値が0であれば、自己相関関数と同じ）を計算\n",
    "2. 自己共分散行列を要素としてもつハンケル行列を構成する\n",
    "3. ハンケル行列を特異値分解し、その特異値の大きさを参考にして、時系列の次数を決定する\n",
    "4. シフト不変性や最小二乗推定法を用いて、システム行列(A,b,c)を計算する"
   ]
  },
  {
   "cell_type": "code",
   "execution_count": null,
   "metadata": {},
   "outputs": [],
   "source": []
  }
 ],
 "metadata": {
  "kernelspec": {
   "display_name": "Python 3",
   "language": "python",
   "name": "python3"
  },
  "language_info": {
   "codemirror_mode": {
    "name": "ipython",
    "version": 3
   },
   "file_extension": ".py",
   "mimetype": "text/x-python",
   "name": "python",
   "nbconvert_exporter": "python",
   "pygments_lexer": "ipython3",
   "version": "3.7.0"
  },
  "toc": {
   "base_numbering": 1,
   "nav_menu": {},
   "number_sections": true,
   "sideBar": true,
   "skip_h1_title": false,
   "title_cell": "Table of Contents",
   "title_sidebar": "Contents",
   "toc_cell": false,
   "toc_position": {
    "height": "calc(100% - 180px)",
    "left": "10px",
    "top": "150px",
    "width": "343.188px"
   },
   "toc_section_display": true,
   "toc_window_display": true
  }
 },
 "nbformat": 4,
 "nbformat_minor": 2
}
