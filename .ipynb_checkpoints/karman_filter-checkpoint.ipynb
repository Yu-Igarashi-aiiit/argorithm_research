{
 "cells": [
  {
   "cell_type": "markdown",
   "metadata": {},
   "source": [
    "# Kalman filter"
   ]
  },
  {
   "cell_type": "markdown",
   "metadata": {},
   "source": [
    "## 理論概要"
   ]
  },
  {
   "cell_type": "markdown",
   "metadata": {},
   "source": [
    "<b>補正後の状態　＝　補正前の状態 ＋ カルマンゲイン ×（本物の観測値－予測された観測値）</b><br><br>\n",
    "<b>カルマンゲイン ＝ 状態の予測誤差の分散　÷（状態の予測誤差の分散＋観測方程式のノイズの分散）</b>\n",
    "<br><br>\n",
    "将来予測が当たる（「状態の予測誤差の分散」が小さい）と判断されていれば、補正は少なくなります。<br>\n",
    "また、観測方程式におけるノイズが大きいと判断されても、やはり補正幅は小さくなります。<br><br>\n",
    "<b>今期の状態の予測誤差の分散 ＝ 前期の状態の予測誤差の分散 ＋ 状態方程式のノイズの分散</b>\n",
    "<br><br>\n",
    "ただし、これもやはり「本物の観測値」が手に入ると、予測誤差の分散も小さくなります。<br>\n",
    "「観測値」を基にして「状態の予測誤差の分散」を修正するのも、カルマンフィルタの役割です。<br><br>\n",
    "<b>補正後の状態の予測誤差の分散 ＝（１ーカルマンゲイン）× 補正前の状態の予測誤差の分散</b>\n"
   ]
  },
  {
   "cell_type": "markdown",
   "metadata": {},
   "source": [
    "## ローカルレベルモデルでの実装\n",
    "<br>\n",
    "観測方程式<br>\n",
    "「観測値」　～　「状態」 ＋　ノイズ\n",
    "<br><br>\n",
    "状態方程式<br>\n",
    "「状態」　～　「前期の状態」　＋　ノイズ<br><br>\n",
    "y : 当期の観測値<br>\n",
    "x_pre : 前期の状態<br>\n",
    "p_pre : 前期の状態の予測誤差の分散<br>\n",
    "sigmaW : 状態方程式のノイズの分散<br>\n",
    "sigmaV : 観測方程式のノイズの分散<br>\n",
    "<br>"
   ]
  },
  {
   "cell_type": "code",
   "execution_count": 13,
   "metadata": {},
   "outputs": [],
   "source": [
    "import pandas as pd"
   ]
  },
  {
   "cell_type": "code",
   "execution_count": 10,
   "metadata": {},
   "outputs": [],
   "source": [
    "def local_level_model(y,x_pre,p_pre,sigmaW,sigmaV):\n",
    "    x_frc = x_pre # ローカルレベルモデルゆえ予測値は前期の値と同じ\n",
    "    p_frc = p_pre + sigmaW #状態の予測誤差の分散\n",
    "    k_gain = p_frc / (p_frc + sigmaW) #カルマンゲイン\n",
    "    x_flt = x_frc + k_gain * (y - x_frc) #カルマンゲインを使って補正された状態\n",
    "    p_flt = (1 - k_gain) * p_frc # 補正された状態の予測誤差の分散\n",
    "\n",
    "    return x_flt,p_flt"
   ]
  },
  {
   "cell_type": "code",
   "execution_count": 32,
   "metadata": {},
   "outputs": [
    {
     "data": {
      "text/html": [
       "<div>\n",
       "<style scoped>\n",
       "    .dataframe tbody tr th:only-of-type {\n",
       "        vertical-align: middle;\n",
       "    }\n",
       "\n",
       "    .dataframe tbody tr th {\n",
       "        vertical-align: top;\n",
       "    }\n",
       "\n",
       "    .dataframe thead th {\n",
       "        text-align: right;\n",
       "    }\n",
       "</style>\n",
       "<table border=\"1\" class=\"dataframe\">\n",
       "  <thead>\n",
       "    <tr style=\"text-align: right;\">\n",
       "      <th></th>\n",
       "      <th>x</th>\n",
       "      <th>y</th>\n",
       "    </tr>\n",
       "  </thead>\n",
       "  <tbody>\n",
       "    <tr>\n",
       "      <th>0</th>\n",
       "      <td>40.0580</td>\n",
       "      <td>-41.4635</td>\n",
       "    </tr>\n",
       "    <tr>\n",
       "      <th>1</th>\n",
       "      <td>37.1892</td>\n",
       "      <td>-42.8135</td>\n",
       "    </tr>\n",
       "    <tr>\n",
       "      <th>2</th>\n",
       "      <td>34.6861</td>\n",
       "      <td>-44.1072</td>\n",
       "    </tr>\n",
       "  </tbody>\n",
       "</table>\n",
       "</div>"
      ],
      "text/plain": [
       "         x        y\n",
       "0  40.0580 -41.4635\n",
       "1  37.1892 -42.8135\n",
       "2  34.6861 -44.1072"
      ]
     },
     "execution_count": 32,
     "metadata": {},
     "output_type": "execute_result"
    }
   ],
   "source": [
    "df = pd.read_csv('../TagGame/Tag_simulation/oni.csv')\n",
    "df.head(3)"
   ]
  },
  {
   "cell_type": "code",
   "execution_count": 34,
   "metadata": {},
   "outputs": [],
   "source": [
    "#サンプルサイズ\n",
    "N = len(df.x)\n",
    "\n",
    "#状態の推定値\n",
    "x = numeric(N)\n",
    "\n",
    "#状態の予測誤差の分散\n",
    "p = numeric(N)"
   ]
  },
  {
   "cell_type": "code",
   "execution_count": null,
   "metadata": {},
   "outputs": [],
   "source": []
  }
 ],
 "metadata": {
  "kernelspec": {
   "display_name": "Python 3",
   "language": "python",
   "name": "python3"
  },
  "language_info": {
   "codemirror_mode": {
    "name": "ipython",
    "version": 3
   },
   "file_extension": ".py",
   "mimetype": "text/x-python",
   "name": "python",
   "nbconvert_exporter": "python",
   "pygments_lexer": "ipython3",
   "version": "3.7.0"
  },
  "toc": {
   "base_numbering": 1,
   "nav_menu": {},
   "number_sections": true,
   "sideBar": true,
   "skip_h1_title": false,
   "title_cell": "Table of Contents",
   "title_sidebar": "Contents",
   "toc_cell": false,
   "toc_position": {
    "height": "calc(100% - 180px)",
    "left": "10px",
    "top": "150px",
    "width": "342.797px"
   },
   "toc_section_display": true,
   "toc_window_display": true
  }
 },
 "nbformat": 4,
 "nbformat_minor": 2
}
